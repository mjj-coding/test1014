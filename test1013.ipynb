{
  "cells": [
    {
      "cell_type": "markdown",
      "metadata": {
        "id": "view-in-github",
        "colab_type": "text"
      },
      "source": [
        "<a href=\"https://colab.research.google.com/github/mjj-coding/test1014/blob/main/test1013.ipynb\" target=\"_parent\"><img src=\"https://colab.research.google.com/assets/colab-badge.svg\" alt=\"Open In Colab\"/></a>"
      ]
    },
    {
      "cell_type": "code",
      "source": [
        "from google.colab import drive\n",
        "drive.mount('/content/drive')"
      ],
      "metadata": {
        "colab": {
          "base_uri": "https://localhost:8080/"
        },
        "id": "mnDjv5nn8hwb",
        "outputId": "6fb548a1-0527-4089-ff36-6ea8560a02b7"
      },
      "id": "mnDjv5nn8hwb",
      "execution_count": null,
      "outputs": [
        {
          "output_type": "stream",
          "name": "stdout",
          "text": [
            "Mounted at /content/drive\n"
          ]
        }
      ]
    },
    {
      "cell_type": "code",
      "execution_count": null,
      "id": "8eff0768",
      "metadata": {
        "id": "8eff0768"
      },
      "outputs": [],
      "source": [
        "import numpy as np\n",
        "import pandas as pd\n",
        "import matplotlib.pyplot as plt\n",
        "import random\n",
        "from sklearn.linear_model import LinearRegression"
      ]
    },
    {
      "cell_type": "code",
      "source": [
        "random.seed(0)            #讓隨機產生的數字保持一致,()裡可以是任何數字\n",
        "x=np.random.randn(10,1)       #隨機產生array(10,1)個+1到-1之間的數\n",
        "y=np.random.randn(10,1)\n",
        "x1=random.randint(0,1000)\n",
        "plt.scatter(x,y,c='#FF60AF')\n",
        "print(x1)"
      ],
      "metadata": {
        "colab": {
          "base_uri": "https://localhost:8080/",
          "height": 282
        },
        "id": "GZuitNVojI0c",
        "outputId": "4905f54d-0c8f-4231-e5a1-88825470a014"
      },
      "id": "GZuitNVojI0c",
      "execution_count": null,
      "outputs": [
        {
          "output_type": "stream",
          "name": "stdout",
          "text": [
            "864\n"
          ]
        },
        {
          "output_type": "display_data",
          "data": {
            "text/plain": [
              "<Figure size 576x288 with 1 Axes>"
            ],
            "image/png": "[encoded data removed]"
          },
          "metadata": {
            "needs_background": "light"
          }
        }
      ]
    },
    {
      "cell_type": "code",
      "source": [
        "random.seed(1)            \n",
        "x=np.random.randn(10,1)       \n",
        "y=np.random.randn(10,1)\n",
        "x1=random.randint(0,1000)\n",
        "plt.scatter(x,y,c='#00DB00')\n",
        "print(x1)"
      ],
      "metadata": {
        "colab": {
          "base_uri": "https://localhost:8080/",
          "height": 282
        },
        "id": "fMEH-SrhkQ-E",
        "outputId": "5f14971c-e8ba-4985-eca1-e810f4dd3a94"
      },
      "id": "fMEH-SrhkQ-E",
      "execution_count": null,
      "outputs": [
        {
          "output_type": "stream",
          "name": "stdout",
          "text": [
            "137\n"
          ]
        },
        {
          "output_type": "display_data",
          "data": {
            "text/plain": [
              "<Figure size 576x288 with 1 Axes>"
            ],
            "image/png": "[encoded data removed]"
          },
          "metadata": {
            "needs_background": "light"
          }
        }
      ]
    },
    {
      "cell_type": "code",
      "source": [
        "random.seed(0)\n",
        "x1=random.randint(0,1000)\n",
        "print(x1)\n",
        "random.seed(1)\n",
        "x1=random.randint(0,1000)\n",
        "print(x1)"
      ],
      "metadata": {
        "colab": {
          "base_uri": "https://localhost:8080/"
        },
        "id": "sBuQE6vZkdwL",
        "outputId": "70779a84-612a-4d2d-b7a5-e3a83a46e92f"
      },
      "id": "sBuQE6vZkdwL",
      "execution_count": null,
      "outputs": [
        {
          "output_type": "stream",
          "name": "stdout",
          "text": [
            "864\n",
            "137\n"
          ]
        }
      ]
    },
    {
      "cell_type": "code",
      "execution_count": null,
      "id": "1a460611",
      "metadata": {
        "colab": {
          "base_uri": "https://localhost:8080/"
        },
        "id": "1a460611",
        "outputId": "f2d8bf60-7c42-43e0-870c-6949284b7957"
      },
      "outputs": [
        {
          "output_type": "stream",
          "name": "stdout",
          "text": [
            "w0 [0.15073402] w1 [0.44971387]\n"
          ]
        }
      ],
      "source": [
        "x_mean= np.mean(x)\n",
        "y_mean= np.mean(y)\n",
        "w1= sum(x*y-x*y_mean)/sum(x**2-x*x_mean)\n",
        "w0= y_mean-w1*x_mean\n",
        "print('w0',w0,\"w1\",w1)"
      ]
    },
    {
      "cell_type": "code",
      "execution_count": null,
      "id": "dc195493",
      "metadata": {
        "id": "dc195493",
        "outputId": "cb97615f-6dd8-409c-c7db-ad60c539b3f9"
      },
      "outputs": [
        {
          "data": {
            "image/png": "[encoded data removed]",
            "text/plain": [
              "<Figure size 432x288 with 1 Axes>"
            ]
          },
          "metadata": {
            "needs_background": "light"
          },
          "output_type": "display_data"
        }
      ],
      "source": [
        "plt.rcParams['figure.figsize'] = (6, 4)\n",
        "plt.scatter(x,y, c='r', s=75)\n",
        "plt.plot(x,w0+ w1*x,'green')\n",
        "plt.grid(True)"
      ]
    },
    {
      "cell_type": "code",
      "execution_count": null,
      "id": "7f0e1c55",
      "metadata": {
        "id": "7f0e1c55"
      },
      "outputs": [],
      "source": [
        "data= pd.read_csv('https://bit.ly/3PcOCOe')\n",
        "data.head(3)\n",
        "plt.rcParams['figure.figsize']=[8,4]\n",
        "#plt.scatter(X_test, y_test, c='g', s=25, label='Testing data')\n",
        "#area= data.iloc[:,1]\n",
        "#price= data.iloc[:,2]\n",
        "area= data[[\"area\"]]\n",
        "price= data[[\"price\"]]\n",
        "plt.scatter(area, price, c=\"pink\", s=25)\n",
        "x_mean= np.mean(x)\n",
        "y_mean= np.mean(x)\n",
        "#w1= sum(x*y-x*y_mean)/sum(x**2-x*x_mean)\n",
        "\n",
        "model= LinearRegression()\n",
        "model.fit(area, price)\n",
        "w0 = model.intercept_\n",
        "w1 = model.coef_\n",
        "print('截距 w0= {}, 斜率 w1= {}'.format(w0, w1))\n",
        "plt.rcParams['figure.figsize'] = (6, 4)\n",
        "plt.scatter(area,price, c='yellow', s=25)\n",
        "plt.plot(x,w0+ w1*x,'green')\n",
        "plt.grid(True)"
      ]
    },
    {
      "cell_type": "code",
      "execution_count": null,
      "id": "e1a72270",
      "metadata": {
        "id": "e1a72270"
      },
      "outputs": [],
      "source": [
        "data= pd.read_csv('/content/drive/MyDrive/homeprices.csv', encoding='cp950')\n",
        "data.head(3)\n"
      ]
    },
    {
      "cell_type": "code",
      "source": [
        "area= data.iloc[:,1]\n",
        "price= data.iloc[:,2]\n",
        "area_mean= np.mean(area)\n",
        "price_mean= np.mean(price)\n",
        "w1= sum(area*price-area*price_mean)/sum(area**2-area*area_mean)\n",
        "w0= price_mean-w1*area_mean\n",
        "plt.rcParams['figure.figsize']= [8,4]\n",
        "plt.scatter(area, price, c='purple')\n",
        "plt.plot(area,w0+w1*area,c='g')\n",
        "print(f'w0:{w0}, w1:{w1}, XType{type(area)}')"
      ],
      "metadata": {
        "colab": {
          "base_uri": "https://localhost:8080/",
          "height": 282
        },
        "id": "y0l9l3gG9djD",
        "outputId": "c1f6b0af-59d2-4b56-85dd-1aa482ac099a"
      },
      "id": "y0l9l3gG9djD",
      "execution_count": null,
      "outputs": [
        {
          "output_type": "stream",
          "name": "stdout",
          "text": [
            "w0:257056.62725575652, w1:118.29495955196003, XType<class 'pandas.core.series.Series'>\n"
          ]
        },
        {
          "output_type": "display_data",
          "data": {
            "text/plain": [
              "<Figure size 576x288 with 1 Axes>"
            ],
            "image/png": "[encoded data removed]"
          },
          "metadata": {
            "needs_background": "light"
          }
        }
      ]
    },
    {
      "cell_type": "code",
      "source": [
        "area= data[['area']]\n",
        "price= data[['price']]\n",
        "plt.scatter(area,price,c='darkblue')\n",
        "model= LinearRegression()\n",
        "model.fit(area,price)\n",
        "w0= model.intercept_\n",
        "w1= model.coef_\n",
        "plt.plot(area,w0+w1*area,c='y')\n",
        "print(f'w0:{w0},w1{w1},XType{type(area)}')"
      ],
      "metadata": {
        "colab": {
          "base_uri": "https://localhost:8080/",
          "height": 282
        },
        "id": "Rrz1qgoOZtGa",
        "outputId": "ae044902-21cd-4467-addc-9c9e00512f60"
      },
      "id": "Rrz1qgoOZtGa",
      "execution_count": null,
      "outputs": [
        {
          "output_type": "stream",
          "name": "stdout",
          "text": [
            "w0:[257056.62725576],w1[[118.29495955]],XType<class 'pandas.core.frame.DataFrame'>\n"
          ]
        },
        {
          "output_type": "display_data",
          "data": {
            "text/plain": [
              "<Figure size 576x288 with 1 Axes>"
            ],
            "image/png": "[encoded data removed]"
          },
          "metadata": {
            "needs_background": "light"
          }
        }
      ]
    },
    {
      "cell_type": "code",
      "source": [],
      "metadata": {
        "id": "4pqc7AuScaiT"
      },
      "id": "4pqc7AuScaiT",
      "execution_count": null,
      "outputs": []
    }
  ],
  "metadata": {
    "kernelspec": {
      "display_name": "Python 3",
      "language": "python",
      "name": "python3"
    },
    "language_info": {
      "codemirror_mode": {
        "name": "ipython",
        "version": 3
      },
      "file_extension": ".py",
      "mimetype": "text/x-python",
      "name": "python",
      "nbconvert_exporter": "python",
      "pygments_lexer": "ipython3",
      "version": "3.8.8"
    },
    "colab": {
      "provenance": [],
      "collapsed_sections": [],
      "include_colab_link": true
    }
  },
  "nbformat": 4,
  "nbformat_minor": 5
}